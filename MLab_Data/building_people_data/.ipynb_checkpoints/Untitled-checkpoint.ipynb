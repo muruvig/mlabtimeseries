{
 "cells": [
  {
   "cell_type": "code",
   "execution_count": 13,
   "metadata": {
    "collapsed": false
   },
   "outputs": [],
   "source": [
    "import numpy as np\n",
    "import matplotlib.pyplot as plt\n",
    "\n",
    "data_reading = open('CalIt2.data.txt')\n",
    "hr = data_reading.readline()\n",
    "data_out,date,time,data_in = [],[],[],[]\n",
    "while hr:\n",
    "\tparts = hr.split(',')\n",
    "\tif parts[0] == '7':\n",
    "\t\tdata_out.append(int(parts[3]))\n",
    "\telse:\n",
    "\t\tdata_in.append(int(parts[3]))\n",
    "\t\ttime.append(parts[2])\n",
    "\t\tdate.append(parts[1])\n",
    "\thr = data_reading.readline()\n",
    "\tif hr == '\\n':\n",
    "\t\thr = data_reading.readline()\n",
    "data_reading.close()\n",
    "\n",
    "data_reading = open('CalIt2.events.txt')\n",
    "pts = data_reading.read().split('\\n')\n",
    "events = [pt.split(',')[0:3] for pt in pts]\n",
    "\n",
    "net = [data_in[i] - data_out[i] for i in range(len(data_out))]\n",
    "\n",
    "plt.plot(net)\n",
    "plt.show()"
   ]
  },
  {
   "cell_type": "code",
   "execution_count": 14,
   "metadata": {
    "collapsed": false
   },
   "outputs": [
    {
     "data": {
      "text/plain": [
       "5040"
      ]
     },
     "execution_count": 14,
     "metadata": {},
     "output_type": "execute_result"
    }
   ],
   "source": [
    "len(data_out)"
   ]
  },
  {
   "cell_type": "code",
   "execution_count": null,
   "metadata": {
    "collapsed": true
   },
   "outputs": [],
   "source": []
  }
 ],
 "metadata": {
  "kernelspec": {
   "display_name": "Python 3",
   "language": "python",
   "name": "python3"
  },
  "language_info": {
   "codemirror_mode": {
    "name": "ipython",
    "version": 3
   },
   "file_extension": ".py",
   "mimetype": "text/x-python",
   "name": "python",
   "nbconvert_exporter": "python",
   "pygments_lexer": "ipython3",
   "version": "3.4.5"
  }
 },
 "nbformat": 4,
 "nbformat_minor": 1
}
